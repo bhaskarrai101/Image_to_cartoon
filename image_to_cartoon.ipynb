{
 "cells": [
  {
   "cell_type": "code",
   "execution_count": 1,
   "id": "148ee91b",
   "metadata": {},
   "outputs": [],
   "source": [
    "import cv2\n",
    "import numpy as np"
   ]
  },
  {
   "cell_type": "markdown",
   "id": "95634ba2",
   "metadata": {},
   "source": [
    "### 1. Read the file"
   ]
  },
  {
   "cell_type": "code",
   "execution_count": 113,
   "id": "be37dd86",
   "metadata": {},
   "outputs": [],
   "source": [
    "#filename = \"IMG_20\""
   ]
  },
  {
   "cell_type": "code",
   "execution_count": 2,
   "id": "c6293174",
   "metadata": {},
   "outputs": [],
   "source": [
    "def read_file(filename):\n",
    "    img = cv2.imread(filename)\n",
    "    cv2.imshow('images',img)\n",
    "    cv2.waitKey()\n",
    "    cv2.destroyAllWindows()\n",
    "    return img"
   ]
  },
  {
   "cell_type": "code",
   "execution_count": 3,
   "id": "d1de3c6d",
   "metadata": {},
   "outputs": [],
   "source": [
    "def color_quantization(img, k):\n",
    "    # Transform the image\n",
    "    data = np.float32(img).reshape((-1,3))\n",
    "    \n",
    "    # Determine criteria\n",
    "    criteria = (cv2.TERM_CRITERIA_EPS + cv2.TERM_CRITERIA_MAX_ITER, 20, 0.001)\n",
    "    \n",
    "    #Implementing k-means\n",
    "    ret, label, center = cv2.kmeans(data, k, None, criteria, 10, cv2.KMEANS_RANDOM_CENTERS)\n",
    "    center = np.uint8(center)\n",
    "    result = center[label.flatten()]\n",
    "    result = result.reshape(img.shape)\n",
    "    return result    "
   ]
  },
  {
   "cell_type": "code",
   "execution_count": 4,
   "id": "c0e46b34",
   "metadata": {},
   "outputs": [],
   "source": [
    "def edge_mask(img, line_size, blur_value):\n",
    "    gray = cv2.cvtColor(img, cv2.COLOR_BGR2GRAY)\n",
    "    gray_blur = cv2.medianBlur(gray, blur_value)\n",
    "    edges = cv2.adaptiveThreshold(gray_blur, 255, cv2.ADAPTIVE_THRESH_MEAN_C, cv2.THRESH_BINARY, line_size, blur_value)\n",
    "    return edges"
   ]
  },
  {
   "cell_type": "markdown",
   "id": "249021a9",
   "metadata": {},
   "source": [
    "### 2. Upload Image File"
   ]
  },
  {
   "cell_type": "code",
   "execution_count": 5,
   "id": "c60250c2",
   "metadata": {},
   "outputs": [],
   "source": [
    "img=read_file('D:\\DATA_GPU\\image_to_cartoon\\IMG_20220318_144312_5.jpg')"
   ]
  },
  {
   "cell_type": "code",
   "execution_count": 6,
   "id": "df953678",
   "metadata": {},
   "outputs": [],
   "source": [
    "img = cv2.resize(img, (720, 720))"
   ]
  },
  {
   "cell_type": "code",
   "execution_count": 7,
   "id": "13e9d6aa",
   "metadata": {},
   "outputs": [
    {
     "data": {
      "text/plain": [
       "(720, 720, 3)"
      ]
     },
     "execution_count": 7,
     "metadata": {},
     "output_type": "execute_result"
    }
   ],
   "source": [
    "img.shape"
   ]
  },
  {
   "cell_type": "markdown",
   "id": "b1a759b4",
   "metadata": {},
   "source": [
    "### 3. Code to create cartoon effect"
   ]
  },
  {
   "cell_type": "code",
   "execution_count": 8,
   "id": "ad964add",
   "metadata": {},
   "outputs": [],
   "source": [
    "line_size = 7\n",
    "blur_value = 7\n",
    "\n",
    "edges = edge_mask(img, line_size, blur_value)\n",
    "#cv2.imshow('ED',edges)\n",
    "#cv2.waitKey()\n",
    "#cv2.destroyAllWindows()"
   ]
  },
  {
   "cell_type": "code",
   "execution_count": 12,
   "id": "1c686941",
   "metadata": {},
   "outputs": [],
   "source": [
    "total_color = 60\n",
    "\n",
    "img = color_quantization(img, total_color)\n",
    "#cv2.imshow('Quant',img)\n",
    "#cv2.waitKey()\n",
    "#cv2.destroyAllWindows()"
   ]
  },
  {
   "cell_type": "code",
   "execution_count": 15,
   "id": "f5872aa6",
   "metadata": {},
   "outputs": [],
   "source": [
    "blurred = cv2.bilateralFilter(img, d=7, sigmaColor=300,sigmaSpace=300)\n",
    "#cv2.imshow('blur',blurred)\n",
    "#cv2.waitKey()\n",
    "#cv2.destroyAllWindows()"
   ]
  },
  {
   "cell_type": "code",
   "execution_count": 16,
   "id": "e6d503b7",
   "metadata": {},
   "outputs": [],
   "source": [
    "cartoon = cv2.bitwise_and(blurred, blurred, mask=edges)\n",
    "cv2.imshow('cartoon',cartoon)\n",
    "cv2.waitKey()\n",
    "cv2.destroyAllWindows()"
   ]
  },
  {
   "cell_type": "code",
   "execution_count": 1,
   "id": "062efff5",
   "metadata": {},
   "outputs": [],
   "source": []
  },
  {
   "cell_type": "code",
   "execution_count": null,
   "id": "62e1773b",
   "metadata": {},
   "outputs": [],
   "source": []
  }
 ],
 "metadata": {
  "kernelspec": {
   "display_name": "Python 3 (ipykernel)",
   "language": "python",
   "name": "python3"
  },
  "language_info": {
   "codemirror_mode": {
    "name": "ipython",
    "version": 3
   },
   "file_extension": ".py",
   "mimetype": "text/x-python",
   "name": "python",
   "nbconvert_exporter": "python",
   "pygments_lexer": "ipython3",
   "version": "3.9.7"
  }
 },
 "nbformat": 4,
 "nbformat_minor": 5
}
